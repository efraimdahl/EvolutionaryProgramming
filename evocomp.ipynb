{
 "cells": [
  {
   "cell_type": "markdown",
   "metadata": {},
   "source": [
    "<h2>General Definitions</h2>"
   ]
  },
  {
   "cell_type": "code",
   "execution_count": 148,
   "metadata": {},
   "outputs": [],
   "source": [
    "#Packages\n",
    "import numpy as np\n",
    "#Static variables\n",
    "#Length of string to be evolved\n",
    "STRING_LENGTH = 40\n",
    "#Possible Characters\n",
    "ALPHABET = [\"1\",\"0\"]\n",
    "#Maximum number of generations without improvement\n",
    "MAX_GEN = 10\n",
    "#Maximum population size\n",
    "MAX_POPULATION = 1280\n",
    "#Initial Pop:\n",
    "INITIAL_POPULATION = 10\n",
    "#Smallest difference in population size to explore\n",
    "MIN_RES = 10\n",
    "#Number of runs for reliable results\n",
    "NUM_RUNS = 20\n",
    "#Threshold for number of runs out of NUM_RUNS that need to be successfull\n",
    "THRESH_NUM = 19\n",
    "#Uniform crossover probability of inheriting from parent 1, where 1 denotes 100$\n",
    "UNICROSS = 0.5\n",
    "#Deceptive Trap Function Mapping\n",
    "DECEPTIVE = {\n",
    "    4:4,3:0,2:1,1:2,0:3\n",
    "}\n",
    "#Non-Deceptive Trap Function Dict\n",
    "NON_DECEPTIVE = {\n",
    "    4:4,3:0,2:0.5,1:1,0:1.5\n",
    "}\n",
    "#Block size for trap functions\n",
    "BLOCK_SIZE = 4\n"
   ]
  },
  {
   "cell_type": "code",
   "execution_count": 149,
   "metadata": {},
   "outputs": [
    {
     "name": "stdout",
     "output_type": "stream",
     "text": [
      "('AABBABBBBBAA', 'BBAABAAAAABB')\n",
      "('ABBAABACGCCGC', 'BAABBABGCGGCG')\n",
      "('AAAAAAAAAAAA', 'BBBBBBBBBBBB')\n",
      "('AAAAAABCGGGGG', 'BBBBBBAGCCCCC')\n"
     ]
    }
   ],
   "source": [
    "#Crossover Functions\n",
    "\n",
    "'''\n",
    "Input: parent1, parent2 two strings of equal length\n",
    "iterate bitwise over parent string to create child1 and child2. \n",
    "For child1 for each bit choose randomly whether to inherit from parent1 or parent2, make opposite choice for child2\n",
    "'''\n",
    "def uniformCrossover(parent1,parent2):\n",
    "    assert(len(parent1)==len(parent2))\n",
    "    r,c1,c2 = np.random.random_sample((len(parent1),)),\"\",\"\"\n",
    "    for i in range(0,len(parent1)):\n",
    "        if(r[i]>UNICROSS):\n",
    "            c1+=(parent1[i])\n",
    "            c2+=(parent2[i])\n",
    "        else:\n",
    "            c1+=(parent2[i])\n",
    "            c2+=(parent1[i])        \n",
    "    return(c1,c2)\n",
    "\n",
    "'''\n",
    "Input: parent1, parent2 two strings of equal length\n",
    "Randomly choose two indexes, child1 receives information between theese indices from parent2, information outside of theese indices from parent1. Flip for child2\n",
    "\n",
    "'''\n",
    "def twoPointCross(parent1,parent2):\n",
    "    assert(len(parent1)==len(parent2))\n",
    "    i1 = np.random.randint(len(parent1))\n",
    "    i2 = np.random.randint(i1,len(parent1))\n",
    "    c1_1=parent1[0:i1]\n",
    "    c2_1=parent2[0:i1]\n",
    "    c1_2=parent2[i1:i2]\n",
    "    c2_2=parent1[i1:i2]\n",
    "    c1_3=parent1[i2::]\n",
    "    c2_3=parent2[i2::]\n",
    "    c1=c1_1+c1_2+c1_3\n",
    "    c2=c2_1+c2_2+c2_3\n",
    "    return c1,c2\n",
    "        \n",
    "#Some basic tests\n",
    "print(uniformCrossover(\"AAAAAAAAAAAA\",\"BBBBBBBBBBBB\"))\n",
    "print(uniformCrossover(\"AAAAAAAGGGGGG\",\"BBBBBBBCCCCCC\"))\n",
    "#print(uniformCrossover(\"AAAAAAAGGGG\",\"BBBBBBOOOOOO\")) # -correctly throws error due to missmatched link\n",
    "print(twoPointCross(\"AAAAAAAAAAAA\",\"BBBBBBBBBBBB\"))\n",
    "print(twoPointCross(\"AAAAAAAGGGGGG\",\"BBBBBBBCCCCCC\"))\n",
    "#print(twoPointCross(\"AAAAAAAGGGG\",\"BBBBBBOOOOOO\")) #-correctly throws error due to missmatched link\n"
   ]
  },
  {
   "cell_type": "code",
   "execution_count": 150,
   "metadata": {},
   "outputs": [],
   "source": [
    "#Fitness Functions\n",
    "\n",
    "def counting_ones(sequ,mapping=NON_DECEPTIVE):\n",
    "    res = 0\n",
    "    for e in sequ:\n",
    "        if(e==\"1\"):\n",
    "            res+=1\n",
    "    return res\n",
    "\n",
    "'''\n",
    "Given a sequence sequ, and a mapping (NON_DECEPTIVE or DECEPTIVE) calculate the fittness of the sequence\n",
    "'''\n",
    "def tightlyLinkedTrapFunction(sequ,mapping=NON_DECEPTIVE):\n",
    "    res = 0\n",
    "    for i in range(0,int(len(sequ)/BLOCK_SIZE)):\n",
    "        si = i*BLOCK_SIZE\n",
    "        ei = si+BLOCK_SIZE\n",
    "        block = sequ[si:ei]\n",
    "        block_fittness = mapping[counting_ones(block)]\n",
    "        #print(block,block_fittness,res)\n",
    "        res+=block_fittness\n",
    "    return res\n",
    "\n",
    "def looslyLinkedTrapFunction(sequ,mapping=NON_DECEPTIVE):\n",
    "    n_blocks = int(len(sequ)/BLOCK_SIZE)\n",
    "    res = 0\n",
    "    for i in range(0,n_blocks):\n",
    "        block = \"\"\n",
    "        for j in range(0,BLOCK_SIZE):\n",
    "            #print(i+n_blocks*j)\n",
    "            block+=sequ[i+n_blocks*j]\n",
    "        #print(block)\n",
    "        block_fittness = mapping[counting_ones(block)]\n",
    "        res+=block_fittness\n",
    "    return res\n",
    "        \n",
    "\n",
    "#Some tests\n",
    "assert(counting_ones(\"1111000011110000\")==8)\n",
    "assert(counting_ones(\"0000000000000000\")==0)\n",
    "assert(counting_ones(\"0000000000000111\")==3)\n",
    "assert(counting_ones(\"1111111111111111\")==16)\n",
    "\n",
    "assert(tightlyLinkedTrapFunction(\"1111000011110000\",DECEPTIVE)==14)\n",
    "assert(tightlyLinkedTrapFunction(\"1111000011110000\",NON_DECEPTIVE)==11)\n",
    "assert(tightlyLinkedTrapFunction(\"0000000000000000\",DECEPTIVE)==12)\n",
    "assert(tightlyLinkedTrapFunction(\"0000000000000000\",NON_DECEPTIVE)==6)\n",
    "assert(tightlyLinkedTrapFunction(\"0000011100000111\",DECEPTIVE)==6)\n",
    "assert(tightlyLinkedTrapFunction(\"0000011100000111\",NON_DECEPTIVE)==3)\n",
    "assert(tightlyLinkedTrapFunction(\"00000001001101111111\",DECEPTIVE)==10)\n",
    "assert(tightlyLinkedTrapFunction(\"00000001001101111111\",NON_DECEPTIVE)==7)\n",
    "\n",
    "assert(looslyLinkedTrapFunction(\"1111000011110000\",DECEPTIVE)==4)#\n",
    "assert(looslyLinkedTrapFunction(\"1111000011110000\",NON_DECEPTIVE)==2)\n",
    "assert(looslyLinkedTrapFunction(\"0000000000000000\",DECEPTIVE)==12)\n",
    "assert(looslyLinkedTrapFunction(\"0000000000000000\",NON_DECEPTIVE)==6)\n",
    "assert(looslyLinkedTrapFunction(\"0111001100010000\",DECEPTIVE)==6)\n",
    "assert(looslyLinkedTrapFunction(\"0111001100010000\",NON_DECEPTIVE)==3)\n",
    "assert(looslyLinkedTrapFunction(\"1111011100110001\",DECEPTIVE)==7)\n",
    "assert(looslyLinkedTrapFunction(\"1111011100110001\",NON_DECEPTIVE)==5.5)\n",
    "assert(looslyLinkedTrapFunction(\"11111011110011100011\",DECEPTIVE)==11) #1,2,3,4,4\n",
    "assert(looslyLinkedTrapFunction(\"11111011110011100011\",NON_DECEPTIVE)==9.5) #1,2,3,4,4\n",
    "assert(looslyLinkedTrapFunction(\"01111001110001100001\",DECEPTIVE)==10)#0,1,2,3,4\n",
    "assert(looslyLinkedTrapFunction(\"01111001110001100001\",NON_DECEPTIVE)==7)#0,1,2,3,4"
   ]
  },
  {
   "cell_type": "code",
   "execution_count": 151,
   "metadata": {},
   "outputs": [
    {
     "name": "stdout",
     "output_type": "stream",
     "text": [
      "1011111000001001101111100000010010100001\n",
      "1110110010000001011110001010111101001010\n",
      "('1111111111111111111111111111111111111111', 103)\n"
     ]
    }
   ],
   "source": [
    "#GENETIC ALGORITHM\n",
    "\n",
    "#Function to generate a random string of length STRING_LENGTH, from characters in the given ALPHABET\n",
    "def randstring(length=STRING_LENGTH,alphabet=ALPHABET):\n",
    "    ints = np.random.randint(0, high=len(ALPHABET), size=(length,), dtype=int)\n",
    "    res=\"\"\n",
    "    for i in ints:\n",
    "        res+=alphabet[i]\n",
    "    return res\n",
    "\n",
    "#Function to test bisection search, emulates the returned value\n",
    "def genetic_search_test(population_size, expected_threshold=250):\n",
    "    if(population_size>=expected_threshold):\n",
    "        return \"1\"*STRING_LENGTH,0\n",
    "    else:\n",
    "        return \"0\"*STRING_LENGTH,0\n",
    "    \n",
    "#Genetic Search of a population. \n",
    "def genetic_search(population_size,fittness_function=counting_ones,crossover_function=uniformCrossover,mapping=NON_DECEPTIVE):\n",
    "    #Randomly initiate population_size strings of 1s and 0s\n",
    "    population = []\n",
    "    for i in range(0,population_size):\n",
    "        population.append(randstring())\n",
    "    optimal = False\n",
    "    n_generations = 0\n",
    "    past_avg_ftn = 0\n",
    "    not_changed = 0 #keeps track of fittness \n",
    "    res = []\n",
    "    while(not optimal and not_changed<MAX_GEN):\n",
    "        n_population = []\n",
    "        n_generations +=1\n",
    "        ftn_counter = 0\n",
    "        #1. Randomly shuffle the population P (t).\n",
    "        np.random.shuffle(population)\n",
    "        for i in range(0,len(population)-1,2):\n",
    "            #2. Pair solution 1 with solution 2, solution 3 with solution 4, etc. ...\n",
    "            p1,p2 = population[i],population[i+1]\n",
    "            #3. Each parent pair creates 2 offspring solutions using crossover.\n",
    "            c1,c2 = crossover_function(p1,p2)\n",
    "            #4. Family competition: the best 2 solutions of each family of 4 are copied to the next population P (t + 1).\n",
    "            scores = [(fittness_function(x,mapping=mapping),x) for x in [c1,c2,p1,p2]]\n",
    "            #We can use sort, because sort is stable, if two elements are equal their original order will be preserved, this satisifies \n",
    "            #the requirement: When a parent and a child have the same (best) fitness, the child is copied to the next generation\n",
    "            scores.sort(reverse=True,key=lambda x: x[0])\n",
    "            n_population.extend([scores[0][1],scores[1][1]])\n",
    "            ftn_counter+=(scores[0][0]+scores[1][0])\n",
    "        avg_ftn = ftn_counter/population_size\n",
    "        #print(len(n_population),len(n_population[0]),fittness_function(n_population[0]),n_population[0])\n",
    "        res.append(avg_ftn)\n",
    "        #5 The GA is stopped when one of the new offspring solutions is the global optimum\n",
    "        if(avg_ftn>=STRING_LENGTH):\n",
    "            optimal = True\n",
    "        elif(avg_ftn>past_avg_ftn):\n",
    "            past_avg_ftn = avg_ftn\n",
    "        #6 or when no new offspring solution with a higher fitness than its parents has been created during the previous 10 generation\n",
    "        else:\n",
    "            not_changed+=1\n",
    "        population=n_population\n",
    "    return(n_population[0],n_generations)\n",
    "\n",
    "\"\"\"\n",
    "Modified Bisection Search for smallest valid population size\n",
    "A valid population_size is a population_size where out of NUM_RUNS (20) runs THRESHOLD (19) runs converge on the optimum solution\n",
    "\n",
    "Phase one: double population size starting from INITIAL_POPULATION until a valid population size is found, or MAX_POPULATION is exceeded in which case we return -1\n",
    "Phase two: perform binary search between the lower_bound (highest invalid population) and upper bound (smallest valid population). \n",
    "Binary Search ends when subsequent adjustments are smaller than MIN_RES (10)\n",
    "\"\"\"\n",
    "def bisection_search(mode=\"test\",expected_threshold=250,fittness_function=counting_ones,crossover_function=uniformCrossover,mapping=NON_DECEPTIVE):\n",
    "    current_pop = INITIAL_POPULATION\n",
    "    res = [] #to store explored population sizes\n",
    "    lower_bound =0 #stores highest value that did not succeed\n",
    "    upper_bound = MAX_POPULATION+1 #stores lowest value that did succeed\n",
    "    while(current_pop<=MAX_POPULATION):\n",
    "        res.append(current_pop)\n",
    "        #STEP 1: Check if current population size is valid and adjust boundaries.\n",
    "        successes = 0 #counting the succesfull runs where the genetic_search converged at the global maximum\n",
    "        for i in range(0,NUM_RUNS):\n",
    "            converged_genes,n_generations = genetic_search_test(current_pop,expected_threshold) if(mode==\"test\") else genetic_search(current_pop,fittness_function=fittness_function,crossover_function=crossover_function,mapping=mapping)\n",
    "            if(counting_ones(converged_genes)>=STRING_LENGTH): #Check if optimal solution was returned\n",
    "                    successes+=1\n",
    "        if(successes>=THRESH_NUM):\n",
    "            upper_bound=current_pop\n",
    "        else:\n",
    "            lower_bound = current_pop\n",
    "        #STEP 2: Adjust search parameters.\n",
    "        if(upper_bound==(MAX_POPULATION+1)): #If the upper bound did not previously change, continue doubling population\n",
    "            current_pop=current_pop*2\n",
    "        else: #regular binary search in between found boundaries\n",
    "            dif = (upper_bound-lower_bound)//2\n",
    "            if(dif<MIN_RES): #Stop searching once we are within MIN_RES (10) of the smallest possible valid population size\n",
    "                return res,upper_bound\n",
    "            current_pop=lower_bound+dif\n",
    "    return res,-1\n",
    "\n",
    "#More tests\n",
    "\n",
    "assert(bisection_search(mode=\"test\",expected_threshold=250)==([10, 20, 40, 80, 160, 320, 240, 280, 260, 250],250))\n",
    "assert(bisection_search(mode=\"test\",expected_threshold=100)==([10, 20, 40, 80, 160, 120, 100, 90],100))\n",
    "assert(bisection_search(mode=\"test\",expected_threshold=1285)==([10, 20, 40, 80, 160, 320, 640,1280],-1))\n",
    "assert(bisection_search(mode=\"test\",expected_threshold=853)==([10, 20, 40, 80, 160, 320, 640, 1280, 960, 800, 880, 840, 860, 850],860))\n",
    "\n",
    "print(randstring())\n",
    "print(randstring())\n",
    "\n",
    "print(genetic_search(200,fittness_function=tightlyLinkedTrapFunction,crossover_function=uniformCrossover,mapping=NON_DECEPTIVE))\n",
    "\n"
   ]
  },
  {
   "cell_type": "code",
   "execution_count": 152,
   "metadata": {},
   "outputs": [
    {
     "name": "stdout",
     "output_type": "stream",
     "text": [
      "([10, 20, 40, 30], 30)\n"
     ]
    }
   ],
   "source": [
    "#EXPERIMENT 1 \n",
    "#with uniform crossover\n",
    "print(bisection_search(mode=\"run\",fittness_function=counting_ones,crossover_function=uniformCrossover))"
   ]
  },
  {
   "cell_type": "code",
   "execution_count": 153,
   "metadata": {},
   "outputs": [
    {
     "name": "stdout",
     "output_type": "stream",
     "text": [
      "([10, 20, 40, 80, 60, 70], 70)\n"
     ]
    }
   ],
   "source": [
    "#EXPERIMENT 1 \n",
    "#with 2X crossover\n",
    "print(bisection_search(mode=\"run\",fittness_function=counting_ones,crossover_function=twoPointCross))\n"
   ]
  },
  {
   "cell_type": "code",
   "execution_count": 154,
   "metadata": {},
   "outputs": [
    {
     "name": "stdout",
     "output_type": "stream",
     "text": [
      "([10, 20, 40, 80, 160, 320, 640, 1280], -1)\n"
     ]
    }
   ],
   "source": [
    "#EXPERIMENT 2 Tightly linked deceptive trap-function uniform\n",
    "print(bisection_search(mode=\"run\",fittness_function=tightlyLinkedTrapFunction,crossover_function=uniformCrossover,mapping=DECEPTIVE))\n"
   ]
  },
  {
   "cell_type": "code",
   "execution_count": 155,
   "metadata": {},
   "outputs": [
    {
     "name": "stdout",
     "output_type": "stream",
     "text": [
      "([10, 20, 40, 80, 160, 320, 240, 200, 220, 230], 230)\n"
     ]
    }
   ],
   "source": [
    "#EXPERIMENT 2 Tightly linked deceptive trap-function 2x\n",
    "print(bisection_search(mode=\"run\",fittness_function=tightlyLinkedTrapFunction,crossover_function=twoPointCross,mapping=DECEPTIVE))\n"
   ]
  },
  {
   "cell_type": "code",
   "execution_count": 156,
   "metadata": {},
   "outputs": [
    {
     "name": "stdout",
     "output_type": "stream",
     "text": [
      "([10, 20, 40, 80, 160, 320, 240, 200, 180, 190], 200)\n"
     ]
    }
   ],
   "source": [
    "#EXPERIMENT 3 Tightly linked non_deceptive trap-function uniform\n",
    "print(bisection_search(mode=\"run\",fittness_function=tightlyLinkedTrapFunction,crossover_function=uniformCrossover,mapping=NON_DECEPTIVE))\n"
   ]
  },
  {
   "cell_type": "code",
   "execution_count": 157,
   "metadata": {},
   "outputs": [
    {
     "name": "stdout",
     "output_type": "stream",
     "text": [
      "([10, 20, 40, 80, 160, 320, 240, 200, 180, 170], 170)\n"
     ]
    }
   ],
   "source": [
    "#EXPERIMENT 3 Loosly linked deceptive trap-function 2x\n",
    "print(bisection_search(mode=\"run\",fittness_function=tightlyLinkedTrapFunction,crossover_function=twoPointCross,mapping=NON_DECEPTIVE))\n"
   ]
  },
  {
   "cell_type": "code",
   "execution_count": 158,
   "metadata": {},
   "outputs": [
    {
     "name": "stdout",
     "output_type": "stream",
     "text": [
      "([10, 20, 40, 80, 160, 320, 640, 1280], -1)\n"
     ]
    }
   ],
   "source": [
    "#EXPERIMENT 4 Loosly linked deceptive trap-function uniform\n",
    "print(bisection_search(mode=\"run\",fittness_function=looslyLinkedTrapFunction,crossover_function=uniformCrossover,mapping=DECEPTIVE))\n"
   ]
  },
  {
   "cell_type": "code",
   "execution_count": 159,
   "metadata": {},
   "outputs": [
    {
     "name": "stdout",
     "output_type": "stream",
     "text": [
      "([10, 20, 40, 80, 160, 320, 640, 1280], -1)\n"
     ]
    }
   ],
   "source": [
    "#EXPERIMENT 4 Loosly linked deceptive trap-function 2x\n",
    "print(bisection_search(mode=\"run\",fittness_function=looslyLinkedTrapFunction,crossover_function=twoPointCross,mapping=DECEPTIVE))\n"
   ]
  },
  {
   "cell_type": "code",
   "execution_count": 160,
   "metadata": {},
   "outputs": [
    {
     "name": "stdout",
     "output_type": "stream",
     "text": [
      "([10, 20, 40, 80, 160, 320, 240, 200, 220, 210], 210)\n"
     ]
    }
   ],
   "source": [
    "#EXPERIMENT 5 Loosly linked deceptive trap-function uniform\n",
    "print(bisection_search(mode=\"run\",fittness_function=looslyLinkedTrapFunction,crossover_function=uniformCrossover,mapping=NON_DECEPTIVE))\n"
   ]
  },
  {
   "cell_type": "code",
   "execution_count": 161,
   "metadata": {},
   "outputs": [
    {
     "name": "stdout",
     "output_type": "stream",
     "text": [
      "([10, 20, 40, 80, 160, 320, 640, 1280], -1)\n"
     ]
    }
   ],
   "source": [
    "#EXPERIMENT 5 Loosly linked deceptive trap-function 2x\n",
    "print(bisection_search(mode=\"run\",fittness_function=looslyLinkedTrapFunction,crossover_function=twoPointCross,mapping=NON_DECEPTIVE))\n"
   ]
  }
 ],
 "metadata": {
  "kernelspec": {
   "display_name": "MEGDNN",
   "language": "python",
   "name": "python3"
  },
  "language_info": {
   "codemirror_mode": {
    "name": "ipython",
    "version": 3
   },
   "file_extension": ".py",
   "mimetype": "text/x-python",
   "name": "python",
   "nbconvert_exporter": "python",
   "pygments_lexer": "ipython3",
   "version": "3.11.7"
  }
 },
 "nbformat": 4,
 "nbformat_minor": 2
}
