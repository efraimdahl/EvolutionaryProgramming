{
 "cells": [
  {
   "cell_type": "markdown",
   "metadata": {},
   "source": [
    "<h2>General Definitions</h2>"
   ]
  },
  {
   "cell_type": "code",
   "execution_count": 2,
   "metadata": {},
   "outputs": [],
   "source": [
    "#Packages\n",
    "import numpy as np\n",
    "#Static variables\n",
    "#Maximum population size\n",
    "MAX_POPULATION = 1280\n",
    "#Number of runs for reliable results\n",
    "NUM_RUNS = 20\n",
    "#Threshold for number of runs out of NUM_RUNS that need to be successfull\n",
    "THRESH_NUM = 19\n",
    "#Uniform crossover probability of inheriting from parent 1, where 1 denotes 100$\n",
    "UNICROSS = 0.5"
   ]
  },
  {
   "cell_type": "code",
   "execution_count": 32,
   "metadata": {},
   "outputs": [],
   "source": [
    "#Crossover Functions\n",
    "\n",
    "'''\n",
    "Input: parent1, parent2 two strings of equal length\n",
    "iterate bitwise over parent string to create child1 and child2. \n",
    "For child1 for each bit choose randomly whether to inherit from parent1 or parent2, make opposite choice for child2\n",
    "'''\n",
    "def uniformCrossover(parent1,parent2):\n",
    "    assert(len(parent1)==len(parent2))\n",
    "    r,c1,c2 = np.random.random_sample((len(parent1),)),\"\",\"\"\n",
    "    for i in range(0,len(parent1)):\n",
    "        if(r[i]>UNICROSS):\n",
    "            c1+=(parent1[i])\n",
    "            c2+=(parent2[i])\n",
    "        else:\n",
    "            c1+=(parent2[i])\n",
    "            c2+=(parent1[i])        \n",
    "    return(c1,c2)\n",
    "\n",
    "'''\n",
    "Input: parent1, parent2 two strings of equal length\n",
    "Randomly choose two indexes, child1 receives information between theese indices from parent2, information outside of theese indices from parent1. Flip for child2\n",
    "\n",
    "'''\n",
    "def twoPointCross(parent1,parent2):\n",
    "    assert(len(parent1)==len(parent2))\n",
    "    i1 = np.random.randint(len(parent1))\n",
    "    i2 = np.random.randint(i1,len(parent1))\n",
    "    print(i1,i2)\n",
    "    c1_1=parent1[0:i1]\n",
    "    c2_1=parent2[0:i1]\n",
    "    c1_2=parent2[i1:i2]\n",
    "    c2_2=parent1[i1:i2]\n",
    "    c1_3=parent1[i2::]\n",
    "    c2_3=parent2[i2::]\n",
    "    c1=c1_1+c1_2+c1_3\n",
    "    c2=c2_1+c2_2+c2_3\n",
    "    return c1,c2\n",
    "        \n",
    "#Some basic tests\n",
    "print(uniformCrossover(\"AAAAAAAAAAAA\",\"BBBBBBBBBBBB\"))\n",
    "print(uniformCrossover(\"AAAAAAAGGGGGG\",\"BBBBBBBCCCCCC\"))\n",
    "#print(uniformCrossover(\"AAAAAAAGGGG\",\"BBBBBBOOOOOO\")) # -correctly throws error due to missmatched link\n",
    "print(twoPointCross(\"AAAAAAAAAAAA\",\"BBBBBBBBBBBB\"))\n",
    "print(twoPointCross(\"AAAAAAAGGGGGG\",\"BBBBBBBCCCCCC\"))\n",
    "#print(twoPointCross(\"AAAAAAAGGGG\",\"BBBBBBOOOOOO\")) #-correctly throws error due to missmatched link\n"
   ]
  },
  {
   "cell_type": "code",
   "execution_count": 46,
   "metadata": {},
   "outputs": [
    {
     "name": "stdout",
     "output_type": "stream",
     "text": [
      "('AAABBAAABBAA', 'BBBAABBBAABB')\n",
      "('BAABBAACGCGGG', 'ABBAABBGCGCCC')\n",
      "2 3\n",
      "('AABAAAAAAAAA', 'BBABBBBBBBBB')\n",
      "10 12\n",
      "('AAAAAAAGGGCCG', 'BBBBBBBCCCGGC')\n"
     ]
    }
   ],
   "source": [
    "#Genetic \n"
   ]
  }
 ],
 "metadata": {
  "kernelspec": {
   "display_name": "MEGDNN",
   "language": "python",
   "name": "python3"
  },
  "language_info": {
   "codemirror_mode": {
    "name": "ipython",
    "version": 3
   },
   "file_extension": ".py",
   "mimetype": "text/x-python",
   "name": "python",
   "nbconvert_exporter": "python",
   "pygments_lexer": "ipython3",
   "version": "3.11.7"
  }
 },
 "nbformat": 4,
 "nbformat_minor": 2
}
